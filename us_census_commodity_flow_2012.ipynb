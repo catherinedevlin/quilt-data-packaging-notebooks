{
 "cells": [
  {
   "cell_type": "markdown",
   "metadata": {},
   "source": [
    "# Preparing data and publishing with Quilt"
   ]
  },
  {
   "cell_type": "markdown",
   "metadata": {},
   "source": [
    "## Get and unzip primary data table\n",
    "\n",
    "We're taking data on interstate movement of commodities gathered by the U. S. Census and published at https://www.census.gov/econ/cfs/pums.html.  The relevant parts are in one large zipped CSV, plus the tabs of a modest-sized .xlsx.  We'll begin by grabbing the files."
   ]
  },
  {
   "cell_type": "code",
   "execution_count": null,
   "metadata": {},
   "outputs": [],
   "source": [
    "import requests\n",
    "resp = requests.get('https://www.census.gov/econ/cfs/2012/cfs_2012_pumf_csv.zip')\n",
    "with open('cfs_2012_pumf_csv.zip', 'wb') as outfile:\n",
    "    outfile.write(resp.content)"
   ]
  },
  {
   "cell_type": "code",
   "execution_count": null,
   "metadata": {},
   "outputs": [],
   "source": [
    "import zipfile\n",
    "zip_ref = zipfile.ZipFile('cfs_2012_pumf_csv.zip', 'r')\n",
    "zip_ref.extractall()\n",
    "zip_ref.close()"
   ]
  },
  {
   "cell_type": "markdown",
   "metadata": {},
   "source": [
    "## Get and unzip data dictionary tables"
   ]
  },
  {
   "cell_type": "code",
   "execution_count": null,
   "metadata": {},
   "outputs": [],
   "source": [
    "url = 'https://www.census.gov/econ/cfs/2012/cfs_2012_pum_file_users_guide_App_A%20(Jun%202015).xlsx'\n",
    "resp = requests.get(url)\n",
    "with open('data_dictionary.xlsx', 'wb') as outfile:\n",
    "    outfile.write(resp.content)"
   ]
  },
  {
   "cell_type": "markdown",
   "metadata": {},
   "source": [
    "## Generate quilt package\n",
    "\n",
    "The CSV was straightforward, but most of the tabs of the spreadsheet require some work to get into tidy table form.  We start with doing as much as we can by editing the parameters of `build.yml` - experimenting with arguments to Pandas' [read_excel](https://pandas.pydata.org/pandas-docs/stable/generated/pandas.read_excel.html) to figure out the right arguments to `kwargs`."
   ]
  },
  {
   "cell_type": "code",
   "execution_count": 1,
   "metadata": {},
   "outputs": [
    {
     "name": "stdout",
     "output_type": "stream",
     "text": [
      "contents:\r\n",
      "  commodity_flow_2012:\r\n",
      "    file: cfs_2012_pumf_csv.txt\r\n",
      "    transform: csv\r\n",
      "    kwargs:\r\n",
      "      index_col: 0\r\n",
      "  field_descriptions:\r\n",
      "    file: data_dictionary.xlsx\r\n",
      "    kwargs:\r\n",
      "      sheet_name: 0\r\n",
      "      skiprows: [0, ]\r\n",
      "      usecols: [0, 1]\r\n",
      "      skip_footer: 6\r\n",
      "  cfs_areas:\r\n",
      "    file: data_dictionary.xlsx\r\n",
      "    kwargs:\r\n",
      "      sheet_name: 1\r\n",
      "      skiprows: [0,]\r\n",
      "  naics_codes:\r\n",
      "    file: data_dictionary.xlsx\r\n",
      "    kwargs:\r\n",
      "      sheet_name: 2\r\n",
      "      skiprows: [0,]\r\n",
      "      usecols: 1\r\n",
      "      squeeze: True\r\n",
      "  sctg_codes:\r\n",
      "    file: data_dictionary.xlsx\r\n",
      "    kwargs:\r\n",
      "      sheet_name: 3\r\n",
      "      skiprows: [0,]\r\n",
      "      dtype: {'NAICS': str}\r\n",
      "  sctg_codes:\r\n",
      "    file: data_dictionary.xlsx\r\n",
      "    kwargs:\r\n",
      "      sheet_name: 3\r\n",
      "      skiprows: [0,]\r\n",
      "      dtype: {'SCTG': str}\r\n",
      "  transport_mode_codes:\r\n",
      "    file: data_dictionary.xlsx\r\n",
      "    kwargs:\r\n",
      "      sheet_name: 4\r\n",
      "      skiprows: [0,]\r\n",
      "      usecols: 1\r\n",
      "      skip_footer: 20\r\n",
      "      dtype: {'Mode Code': str}\r\n"
     ]
    }
   ],
   "source": [
    "!cat build.yml"
   ]
  },
  {
   "cell_type": "code",
   "execution_count": 2,
   "metadata": {},
   "outputs": [
    {
     "name": "stdout",
     "output_type": "stream",
     "text": [
      "Inferring 'transform: xlsx' for data_dictionary.xlsx\r\n",
      "Inferring 'transform: xlsx' for data_dictionary.xlsx\r\n",
      "Inferring 'transform: xlsx' for data_dictionary.xlsx\r\n",
      "Inferring 'transform: xlsx' for data_dictionary.xlsx\r\n",
      "Inferring 'transform: xlsx' for data_dictionary.xlsx\r\n",
      "Built catherinedevlin/us_census_commodity_flow_2012 successfully.\r\n"
     ]
    }
   ],
   "source": [
    "!quilt build catherinedevlin/us_census_commodity_flow_2012 build.yml"
   ]
  },
  {
   "cell_type": "markdown",
   "metadata": {},
   "source": [
    "## Manual corrections\n",
    "\n",
    "Some fixes can't be done through `kwargs` loading paramters.  We need to make the changes in Pandas, then save them back to the Quilt package."
   ]
  },
  {
   "cell_type": "code",
   "execution_count": 3,
   "metadata": {},
   "outputs": [],
   "source": [
    "from quilt.data.catherinedevlin import us_census_commodity_flow_2012 as cf"
   ]
  },
  {
   "cell_type": "code",
   "execution_count": 4,
   "metadata": {},
   "outputs": [],
   "source": [
    "field_descriptions = cf.field_descriptions()"
   ]
  },
  {
   "cell_type": "code",
   "execution_count": 6,
   "metadata": {},
   "outputs": [
    {
     "data": {
      "text/html": [
       "<div>\n",
       "<style scoped>\n",
       "    .dataframe tbody tr th:only-of-type {\n",
       "        vertical-align: middle;\n",
       "    }\n",
       "\n",
       "    .dataframe tbody tr th {\n",
       "        vertical-align: top;\n",
       "    }\n",
       "\n",
       "    .dataframe thead th {\n",
       "        text-align: right;\n",
       "    }\n",
       "</style>\n",
       "<table border=\"1\" class=\"dataframe\">\n",
       "  <thead>\n",
       "    <tr style=\"text-align: right;\">\n",
       "      <th></th>\n",
       "      <th>Field</th>\n",
       "      <th>Description</th>\n",
       "    </tr>\n",
       "  </thead>\n",
       "  <tbody>\n",
       "    <tr>\n",
       "      <th>0</th>\n",
       "      <td>SHIPMT_ID</td>\n",
       "      <td>Shipment identifier</td>\n",
       "    </tr>\n",
       "    <tr>\n",
       "      <th>1</th>\n",
       "      <td>ORIG_STATE</td>\n",
       "      <td>FIPS state code of shipment origin</td>\n",
       "    </tr>\n",
       "    <tr>\n",
       "      <th>2</th>\n",
       "      <td>ORIG_MA</td>\n",
       "      <td>Metro area of shipment origin</td>\n",
       "    </tr>\n",
       "    <tr>\n",
       "      <th>3</th>\n",
       "      <td>ORIG_CFS_AREA</td>\n",
       "      <td>CFS Area of shipment origin</td>\n",
       "    </tr>\n",
       "    <tr>\n",
       "      <th>4</th>\n",
       "      <td>DEST_STATE</td>\n",
       "      <td>FIPS state code of shipment destination</td>\n",
       "    </tr>\n",
       "    <tr>\n",
       "      <th>5</th>\n",
       "      <td>DEST_MA</td>\n",
       "      <td>Metro area of shipment destination</td>\n",
       "    </tr>\n",
       "    <tr>\n",
       "      <th>6</th>\n",
       "      <td>DEST_CFS_AREA</td>\n",
       "      <td>CFS Area of shipment destination</td>\n",
       "    </tr>\n",
       "    <tr>\n",
       "      <th>7</th>\n",
       "      <td>NAICS</td>\n",
       "      <td>Industry classification of shipper</td>\n",
       "    </tr>\n",
       "    <tr>\n",
       "      <th>8</th>\n",
       "      <td>QUARTER</td>\n",
       "      <td>Quarter of 2012 in which the shipment occurred</td>\n",
       "    </tr>\n",
       "    <tr>\n",
       "      <th>9</th>\n",
       "      <td>SCTG</td>\n",
       "      <td>2-digit SCTG Commodity Code of the shipment</td>\n",
       "    </tr>\n",
       "    <tr>\n",
       "      <th>10</th>\n",
       "      <td>MODE</td>\n",
       "      <td>Mode of transportation of the shipment</td>\n",
       "    </tr>\n",
       "    <tr>\n",
       "      <th>11</th>\n",
       "      <td>SHIPMT_VALUE</td>\n",
       "      <td>Value of the shipment in dollars</td>\n",
       "    </tr>\n",
       "    <tr>\n",
       "      <th>12</th>\n",
       "      <td>SHIPMT_WGHT</td>\n",
       "      <td>Weight of the shipment in pounds</td>\n",
       "    </tr>\n",
       "    <tr>\n",
       "      <th>13</th>\n",
       "      <td>SHIPMT_DIST_GC</td>\n",
       "      <td>Great circle distance between ship-ment origin...</td>\n",
       "    </tr>\n",
       "    <tr>\n",
       "      <th>14</th>\n",
       "      <td>SHIPMT_DIST_ROUTED</td>\n",
       "      <td>Routed distance between shipment origin and de...</td>\n",
       "    </tr>\n",
       "    <tr>\n",
       "      <th>15</th>\n",
       "      <td>TEMP_CNTL_YN</td>\n",
       "      <td>Temperature controlled shipment - Yes or No</td>\n",
       "    </tr>\n",
       "    <tr>\n",
       "      <th>16</th>\n",
       "      <td>EXPORT_YN</td>\n",
       "      <td>Export shipment - Yes or No</td>\n",
       "    </tr>\n",
       "    <tr>\n",
       "      <th>17</th>\n",
       "      <td>EXPORT_CNTRY</td>\n",
       "      <td>Export final destination</td>\n",
       "    </tr>\n",
       "    <tr>\n",
       "      <th>18</th>\n",
       "      <td>nan</td>\n",
       "      <td>nan</td>\n",
       "    </tr>\n",
       "    <tr>\n",
       "      <th>19</th>\n",
       "      <td>nan</td>\n",
       "      <td>nan</td>\n",
       "    </tr>\n",
       "    <tr>\n",
       "      <th>20</th>\n",
       "      <td>HAZMAT</td>\n",
       "      <td>Hazardous material (HAZMAT) code</td>\n",
       "    </tr>\n",
       "    <tr>\n",
       "      <th>21</th>\n",
       "      <td>nan</td>\n",
       "      <td>nan</td>\n",
       "    </tr>\n",
       "    <tr>\n",
       "      <th>22</th>\n",
       "      <td>nan</td>\n",
       "      <td>nan</td>\n",
       "    </tr>\n",
       "    <tr>\n",
       "      <th>23</th>\n",
       "      <td>WGT_FACTOR</td>\n",
       "      <td>Shipment tabulation weighting factor</td>\n",
       "    </tr>\n",
       "  </tbody>\n",
       "</table>\n",
       "</div>"
      ],
      "text/plain": [
       "                 Field                                        Description\n",
       "0            SHIPMT_ID                                Shipment identifier\n",
       "1           ORIG_STATE                 FIPS state code of shipment origin\n",
       "2              ORIG_MA                      Metro area of shipment origin\n",
       "3        ORIG_CFS_AREA                        CFS Area of shipment origin\n",
       "4           DEST_STATE            FIPS state code of shipment destination\n",
       "5              DEST_MA                 Metro area of shipment destination\n",
       "6        DEST_CFS_AREA                   CFS Area of shipment destination\n",
       "7                NAICS                 Industry classification of shipper\n",
       "8              QUARTER     Quarter of 2012 in which the shipment occurred\n",
       "9                 SCTG        2-digit SCTG Commodity Code of the shipment\n",
       "10                MODE             Mode of transportation of the shipment\n",
       "11        SHIPMT_VALUE                   Value of the shipment in dollars\n",
       "12         SHIPMT_WGHT                   Weight of the shipment in pounds\n",
       "13      SHIPMT_DIST_GC  Great circle distance between ship-ment origin...\n",
       "14  SHIPMT_DIST_ROUTED  Routed distance between shipment origin and de...\n",
       "15        TEMP_CNTL_YN        Temperature controlled shipment - Yes or No\n",
       "16           EXPORT_YN                        Export shipment - Yes or No\n",
       "17        EXPORT_CNTRY                           Export final destination\n",
       "18                 nan                                                nan\n",
       "19                 nan                                                nan\n",
       "20              HAZMAT                   Hazardous material (HAZMAT) code\n",
       "21                 nan                                                nan\n",
       "22                 nan                                                nan\n",
       "23          WGT_FACTOR               Shipment tabulation weighting factor"
      ]
     },
     "execution_count": 6,
     "metadata": {},
     "output_type": "execute_result"
    }
   ],
   "source": [
    "field_descriptions"
   ]
  },
  {
   "cell_type": "markdown",
   "metadata": {},
   "source": [
    "### drop nan rows"
   ]
  },
  {
   "cell_type": "code",
   "execution_count": 7,
   "metadata": {},
   "outputs": [],
   "source": [
    "field_descriptions = field_descriptions[field_descriptions['Field'] != 'nan']"
   ]
  },
  {
   "cell_type": "code",
   "execution_count": 8,
   "metadata": {},
   "outputs": [
    {
     "data": {
      "text/html": [
       "<div>\n",
       "<style scoped>\n",
       "    .dataframe tbody tr th:only-of-type {\n",
       "        vertical-align: middle;\n",
       "    }\n",
       "\n",
       "    .dataframe tbody tr th {\n",
       "        vertical-align: top;\n",
       "    }\n",
       "\n",
       "    .dataframe thead th {\n",
       "        text-align: right;\n",
       "    }\n",
       "</style>\n",
       "<table border=\"1\" class=\"dataframe\">\n",
       "  <thead>\n",
       "    <tr style=\"text-align: right;\">\n",
       "      <th></th>\n",
       "      <th>Field</th>\n",
       "      <th>Description</th>\n",
       "    </tr>\n",
       "  </thead>\n",
       "  <tbody>\n",
       "    <tr>\n",
       "      <th>0</th>\n",
       "      <td>SHIPMT_ID</td>\n",
       "      <td>Shipment identifier</td>\n",
       "    </tr>\n",
       "    <tr>\n",
       "      <th>1</th>\n",
       "      <td>ORIG_STATE</td>\n",
       "      <td>FIPS state code of shipment origin</td>\n",
       "    </tr>\n",
       "    <tr>\n",
       "      <th>2</th>\n",
       "      <td>ORIG_MA</td>\n",
       "      <td>Metro area of shipment origin</td>\n",
       "    </tr>\n",
       "    <tr>\n",
       "      <th>3</th>\n",
       "      <td>ORIG_CFS_AREA</td>\n",
       "      <td>CFS Area of shipment origin</td>\n",
       "    </tr>\n",
       "    <tr>\n",
       "      <th>4</th>\n",
       "      <td>DEST_STATE</td>\n",
       "      <td>FIPS state code of shipment destination</td>\n",
       "    </tr>\n",
       "    <tr>\n",
       "      <th>5</th>\n",
       "      <td>DEST_MA</td>\n",
       "      <td>Metro area of shipment destination</td>\n",
       "    </tr>\n",
       "    <tr>\n",
       "      <th>6</th>\n",
       "      <td>DEST_CFS_AREA</td>\n",
       "      <td>CFS Area of shipment destination</td>\n",
       "    </tr>\n",
       "    <tr>\n",
       "      <th>7</th>\n",
       "      <td>NAICS</td>\n",
       "      <td>Industry classification of shipper</td>\n",
       "    </tr>\n",
       "    <tr>\n",
       "      <th>8</th>\n",
       "      <td>QUARTER</td>\n",
       "      <td>Quarter of 2012 in which the shipment occurred</td>\n",
       "    </tr>\n",
       "    <tr>\n",
       "      <th>9</th>\n",
       "      <td>SCTG</td>\n",
       "      <td>2-digit SCTG Commodity Code of the shipment</td>\n",
       "    </tr>\n",
       "    <tr>\n",
       "      <th>10</th>\n",
       "      <td>MODE</td>\n",
       "      <td>Mode of transportation of the shipment</td>\n",
       "    </tr>\n",
       "    <tr>\n",
       "      <th>11</th>\n",
       "      <td>SHIPMT_VALUE</td>\n",
       "      <td>Value of the shipment in dollars</td>\n",
       "    </tr>\n",
       "    <tr>\n",
       "      <th>12</th>\n",
       "      <td>SHIPMT_WGHT</td>\n",
       "      <td>Weight of the shipment in pounds</td>\n",
       "    </tr>\n",
       "    <tr>\n",
       "      <th>13</th>\n",
       "      <td>SHIPMT_DIST_GC</td>\n",
       "      <td>Great circle distance between ship-ment origin...</td>\n",
       "    </tr>\n",
       "    <tr>\n",
       "      <th>14</th>\n",
       "      <td>SHIPMT_DIST_ROUTED</td>\n",
       "      <td>Routed distance between shipment origin and de...</td>\n",
       "    </tr>\n",
       "    <tr>\n",
       "      <th>15</th>\n",
       "      <td>TEMP_CNTL_YN</td>\n",
       "      <td>Temperature controlled shipment - Yes or No</td>\n",
       "    </tr>\n",
       "    <tr>\n",
       "      <th>16</th>\n",
       "      <td>EXPORT_YN</td>\n",
       "      <td>Export shipment - Yes or No</td>\n",
       "    </tr>\n",
       "    <tr>\n",
       "      <th>17</th>\n",
       "      <td>EXPORT_CNTRY</td>\n",
       "      <td>Export final destination</td>\n",
       "    </tr>\n",
       "    <tr>\n",
       "      <th>20</th>\n",
       "      <td>HAZMAT</td>\n",
       "      <td>Hazardous material (HAZMAT) code</td>\n",
       "    </tr>\n",
       "    <tr>\n",
       "      <th>23</th>\n",
       "      <td>WGT_FACTOR</td>\n",
       "      <td>Shipment tabulation weighting factor</td>\n",
       "    </tr>\n",
       "  </tbody>\n",
       "</table>\n",
       "</div>"
      ],
      "text/plain": [
       "                 Field                                        Description\n",
       "0            SHIPMT_ID                                Shipment identifier\n",
       "1           ORIG_STATE                 FIPS state code of shipment origin\n",
       "2              ORIG_MA                      Metro area of shipment origin\n",
       "3        ORIG_CFS_AREA                        CFS Area of shipment origin\n",
       "4           DEST_STATE            FIPS state code of shipment destination\n",
       "5              DEST_MA                 Metro area of shipment destination\n",
       "6        DEST_CFS_AREA                   CFS Area of shipment destination\n",
       "7                NAICS                 Industry classification of shipper\n",
       "8              QUARTER     Quarter of 2012 in which the shipment occurred\n",
       "9                 SCTG        2-digit SCTG Commodity Code of the shipment\n",
       "10                MODE             Mode of transportation of the shipment\n",
       "11        SHIPMT_VALUE                   Value of the shipment in dollars\n",
       "12         SHIPMT_WGHT                   Weight of the shipment in pounds\n",
       "13      SHIPMT_DIST_GC  Great circle distance between ship-ment origin...\n",
       "14  SHIPMT_DIST_ROUTED  Routed distance between shipment origin and de...\n",
       "15        TEMP_CNTL_YN        Temperature controlled shipment - Yes or No\n",
       "16           EXPORT_YN                        Export shipment - Yes or No\n",
       "17        EXPORT_CNTRY                           Export final destination\n",
       "20              HAZMAT                   Hazardous material (HAZMAT) code\n",
       "23          WGT_FACTOR               Shipment tabulation weighting factor"
      ]
     },
     "execution_count": 8,
     "metadata": {},
     "output_type": "execute_result"
    }
   ],
   "source": [
    "field_descriptions"
   ]
  },
  {
   "cell_type": "markdown",
   "metadata": {},
   "source": [
    "### Write fixed field_descriptions into quilt package\n",
    "\n",
    "[docs](https://docs.quiltdata.com/edit-a-package.html)"
   ]
  },
  {
   "cell_type": "code",
   "execution_count": 10,
   "metadata": {},
   "outputs": [],
   "source": [
    "cf._set(['field_descriptions'], field_descriptions)"
   ]
  },
  {
   "cell_type": "markdown",
   "metadata": {},
   "source": [
    "### Fix two-line headers"
   ]
  },
  {
   "cell_type": "code",
   "execution_count": 11,
   "metadata": {},
   "outputs": [
    {
     "data": {
      "text/html": [
       "<div>\n",
       "<style scoped>\n",
       "    .dataframe tbody tr th:only-of-type {\n",
       "        vertical-align: middle;\n",
       "    }\n",
       "\n",
       "    .dataframe tbody tr th {\n",
       "        vertical-align: top;\n",
       "    }\n",
       "\n",
       "    .dataframe thead th {\n",
       "        text-align: right;\n",
       "    }\n",
       "</style>\n",
       "<table border=\"1\" class=\"dataframe\">\n",
       "  <thead>\n",
       "    <tr style=\"text-align: right;\">\n",
       "      <th></th>\n",
       "      <th>ORIG_MA</th>\n",
       "      <th>ORIG_STATE</th>\n",
       "      <th>ORIG_CFS_AREA</th>\n",
       "      <th>MA</th>\n",
       "      <th>Description</th>\n",
       "    </tr>\n",
       "  </thead>\n",
       "  <tbody>\n",
       "    <tr>\n",
       "      <th>0</th>\n",
       "      <td>DEST_MA</td>\n",
       "      <td>DEST_STATE</td>\n",
       "      <td>DEST_CFS_AREA</td>\n",
       "      <td>Type</td>\n",
       "      <td>nan</td>\n",
       "    </tr>\n",
       "    <tr>\n",
       "      <th>1</th>\n",
       "      <td>122</td>\n",
       "      <td>13</td>\n",
       "      <td>13-122</td>\n",
       "      <td>C</td>\n",
       "      <td>Atlanta-Athens-Clarke County-Sandy Springs, GA...</td>\n",
       "    </tr>\n",
       "    <tr>\n",
       "      <th>2</th>\n",
       "      <td>142</td>\n",
       "      <td>01</td>\n",
       "      <td>01-142</td>\n",
       "      <td>C</td>\n",
       "      <td>Birmingham-Hoover-Talladega, AL  CFS Area</td>\n",
       "    </tr>\n",
       "    <tr>\n",
       "      <th>3</th>\n",
       "      <td>148</td>\n",
       "      <td>25</td>\n",
       "      <td>25-148</td>\n",
       "      <td>C</td>\n",
       "      <td>Boston-Worcester-Providence, MA-RI-NH-CT  CFS ...</td>\n",
       "    </tr>\n",
       "    <tr>\n",
       "      <th>4</th>\n",
       "      <td>148</td>\n",
       "      <td>33</td>\n",
       "      <td>33-148</td>\n",
       "      <td>C</td>\n",
       "      <td>Boston-Worcester-Providence, MA-RI-NH-CT  CFS ...</td>\n",
       "    </tr>\n",
       "  </tbody>\n",
       "</table>\n",
       "</div>"
      ],
      "text/plain": [
       "   ORIG_MA  ORIG_STATE  ORIG_CFS_AREA    MA  \\\n",
       "0  DEST_MA  DEST_STATE  DEST_CFS_AREA  Type   \n",
       "1      122          13         13-122     C   \n",
       "2      142          01         01-142     C   \n",
       "3      148          25         25-148     C   \n",
       "4      148          33         33-148     C   \n",
       "\n",
       "                                         Description  \n",
       "0                                                nan  \n",
       "1  Atlanta-Athens-Clarke County-Sandy Springs, GA...  \n",
       "2         Birmingham-Hoover-Talladega, AL  CFS Area   \n",
       "3  Boston-Worcester-Providence, MA-RI-NH-CT  CFS ...  \n",
       "4  Boston-Worcester-Providence, MA-RI-NH-CT  CFS ...  "
      ]
     },
     "execution_count": 11,
     "metadata": {},
     "output_type": "execute_result"
    }
   ],
   "source": [
    "cfs_areas = cf.cfs_areas()\n",
    "cfs_areas.head()"
   ]
  },
  {
   "cell_type": "code",
   "execution_count": 12,
   "metadata": {},
   "outputs": [
    {
     "data": {
      "text/plain": [
       "ORIG_MA                DEST_MA\n",
       "ORIG_STATE          DEST_STATE\n",
       "ORIG_CFS_AREA    DEST_CFS_AREA\n",
       "MA                        Type\n",
       "Description                nan\n",
       "Name: 0, dtype: object"
      ]
     },
     "execution_count": 12,
     "metadata": {},
     "output_type": "execute_result"
    }
   ],
   "source": [
    "cfs_areas.iloc[0]"
   ]
  },
  {
   "cell_type": "code",
   "execution_count": 13,
   "metadata": {},
   "outputs": [
    {
     "data": {
      "text/plain": [
       "{'Description': 'nan',\n",
       " 'MA': 'Type',\n",
       " 'ORIG_CFS_AREA': 'DEST_CFS_AREA',\n",
       " 'ORIG_MA': 'DEST_MA',\n",
       " 'ORIG_STATE': 'DEST_STATE'}"
      ]
     },
     "execution_count": 13,
     "metadata": {},
     "output_type": "execute_result"
    }
   ],
   "source": [
    "first_vals = dict(zip(cfs_areas.dtypes.index, cfs_areas.iloc[0]))\n",
    "first_vals"
   ]
  },
  {
   "cell_type": "code",
   "execution_count": 14,
   "metadata": {},
   "outputs": [
    {
     "data": {
      "text/plain": [
       "{'MA': 'MA Type',\n",
       " 'ORIG_CFS_AREA': 'ORIG_CFS_AREA DEST_CFS_AREA',\n",
       " 'ORIG_MA': 'ORIG_MA DEST_MA',\n",
       " 'ORIG_STATE': 'ORIG_STATE DEST_STATE'}"
      ]
     },
     "execution_count": 14,
     "metadata": {},
     "output_type": "execute_result"
    }
   ],
   "source": [
    "first_vals.pop('Description', None)  # this one already correct\n",
    "corrected_headers = {k: '%s %s' % (k, v) for (k, v) in first_vals.items()}\n",
    "corrected_headers"
   ]
  },
  {
   "cell_type": "code",
   "execution_count": 15,
   "metadata": {},
   "outputs": [
    {
     "data": {
      "text/html": [
       "<div>\n",
       "<style scoped>\n",
       "    .dataframe tbody tr th:only-of-type {\n",
       "        vertical-align: middle;\n",
       "    }\n",
       "\n",
       "    .dataframe tbody tr th {\n",
       "        vertical-align: top;\n",
       "    }\n",
       "\n",
       "    .dataframe thead th {\n",
       "        text-align: right;\n",
       "    }\n",
       "</style>\n",
       "<table border=\"1\" class=\"dataframe\">\n",
       "  <thead>\n",
       "    <tr style=\"text-align: right;\">\n",
       "      <th></th>\n",
       "      <th>ORIG_MA DEST_MA</th>\n",
       "      <th>ORIG_STATE DEST_STATE</th>\n",
       "      <th>ORIG_CFS_AREA DEST_CFS_AREA</th>\n",
       "      <th>MA Type</th>\n",
       "      <th>Description</th>\n",
       "    </tr>\n",
       "  </thead>\n",
       "  <tbody>\n",
       "    <tr>\n",
       "      <th>0</th>\n",
       "      <td>DEST_MA</td>\n",
       "      <td>DEST_STATE</td>\n",
       "      <td>DEST_CFS_AREA</td>\n",
       "      <td>Type</td>\n",
       "      <td>nan</td>\n",
       "    </tr>\n",
       "    <tr>\n",
       "      <th>1</th>\n",
       "      <td>122</td>\n",
       "      <td>13</td>\n",
       "      <td>13-122</td>\n",
       "      <td>C</td>\n",
       "      <td>Atlanta-Athens-Clarke County-Sandy Springs, GA...</td>\n",
       "    </tr>\n",
       "    <tr>\n",
       "      <th>2</th>\n",
       "      <td>142</td>\n",
       "      <td>01</td>\n",
       "      <td>01-142</td>\n",
       "      <td>C</td>\n",
       "      <td>Birmingham-Hoover-Talladega, AL  CFS Area</td>\n",
       "    </tr>\n",
       "    <tr>\n",
       "      <th>3</th>\n",
       "      <td>148</td>\n",
       "      <td>25</td>\n",
       "      <td>25-148</td>\n",
       "      <td>C</td>\n",
       "      <td>Boston-Worcester-Providence, MA-RI-NH-CT  CFS ...</td>\n",
       "    </tr>\n",
       "    <tr>\n",
       "      <th>4</th>\n",
       "      <td>148</td>\n",
       "      <td>33</td>\n",
       "      <td>33-148</td>\n",
       "      <td>C</td>\n",
       "      <td>Boston-Worcester-Providence, MA-RI-NH-CT  CFS ...</td>\n",
       "    </tr>\n",
       "  </tbody>\n",
       "</table>\n",
       "</div>"
      ],
      "text/plain": [
       "  ORIG_MA DEST_MA ORIG_STATE DEST_STATE ORIG_CFS_AREA DEST_CFS_AREA MA Type  \\\n",
       "0         DEST_MA            DEST_STATE               DEST_CFS_AREA    Type   \n",
       "1             122                    13                      13-122       C   \n",
       "2             142                    01                      01-142       C   \n",
       "3             148                    25                      25-148       C   \n",
       "4             148                    33                      33-148       C   \n",
       "\n",
       "                                         Description  \n",
       "0                                                nan  \n",
       "1  Atlanta-Athens-Clarke County-Sandy Springs, GA...  \n",
       "2         Birmingham-Hoover-Talladega, AL  CFS Area   \n",
       "3  Boston-Worcester-Providence, MA-RI-NH-CT  CFS ...  \n",
       "4  Boston-Worcester-Providence, MA-RI-NH-CT  CFS ...  "
      ]
     },
     "execution_count": 15,
     "metadata": {},
     "output_type": "execute_result"
    }
   ],
   "source": [
    "cfs_areas = cfs_areas.rename(columns=corrected_headers)\n",
    "cfs_areas.head()"
   ]
  },
  {
   "cell_type": "code",
   "execution_count": 16,
   "metadata": {},
   "outputs": [
    {
     "data": {
      "text/html": [
       "<div>\n",
       "<style scoped>\n",
       "    .dataframe tbody tr th:only-of-type {\n",
       "        vertical-align: middle;\n",
       "    }\n",
       "\n",
       "    .dataframe tbody tr th {\n",
       "        vertical-align: top;\n",
       "    }\n",
       "\n",
       "    .dataframe thead th {\n",
       "        text-align: right;\n",
       "    }\n",
       "</style>\n",
       "<table border=\"1\" class=\"dataframe\">\n",
       "  <thead>\n",
       "    <tr style=\"text-align: right;\">\n",
       "      <th></th>\n",
       "      <th>ORIG_MA DEST_MA</th>\n",
       "      <th>ORIG_STATE DEST_STATE</th>\n",
       "      <th>ORIG_CFS_AREA DEST_CFS_AREA</th>\n",
       "      <th>MA Type</th>\n",
       "      <th>Description</th>\n",
       "    </tr>\n",
       "  </thead>\n",
       "  <tbody>\n",
       "    <tr>\n",
       "      <th>1</th>\n",
       "      <td>122</td>\n",
       "      <td>13</td>\n",
       "      <td>13-122</td>\n",
       "      <td>C</td>\n",
       "      <td>Atlanta-Athens-Clarke County-Sandy Springs, GA...</td>\n",
       "    </tr>\n",
       "    <tr>\n",
       "      <th>2</th>\n",
       "      <td>142</td>\n",
       "      <td>01</td>\n",
       "      <td>01-142</td>\n",
       "      <td>C</td>\n",
       "      <td>Birmingham-Hoover-Talladega, AL  CFS Area</td>\n",
       "    </tr>\n",
       "    <tr>\n",
       "      <th>3</th>\n",
       "      <td>148</td>\n",
       "      <td>25</td>\n",
       "      <td>25-148</td>\n",
       "      <td>C</td>\n",
       "      <td>Boston-Worcester-Providence, MA-RI-NH-CT  CFS ...</td>\n",
       "    </tr>\n",
       "    <tr>\n",
       "      <th>4</th>\n",
       "      <td>148</td>\n",
       "      <td>33</td>\n",
       "      <td>33-148</td>\n",
       "      <td>C</td>\n",
       "      <td>Boston-Worcester-Providence, MA-RI-NH-CT  CFS ...</td>\n",
       "    </tr>\n",
       "    <tr>\n",
       "      <th>5</th>\n",
       "      <td>148</td>\n",
       "      <td>44</td>\n",
       "      <td>44-148</td>\n",
       "      <td>C</td>\n",
       "      <td>Boston-Worcester-Providence, MA-RI-NH-CT  CFS ...</td>\n",
       "    </tr>\n",
       "  </tbody>\n",
       "</table>\n",
       "</div>"
      ],
      "text/plain": [
       "  ORIG_MA DEST_MA ORIG_STATE DEST_STATE ORIG_CFS_AREA DEST_CFS_AREA MA Type  \\\n",
       "1             122                    13                      13-122       C   \n",
       "2             142                    01                      01-142       C   \n",
       "3             148                    25                      25-148       C   \n",
       "4             148                    33                      33-148       C   \n",
       "5             148                    44                      44-148       C   \n",
       "\n",
       "                                         Description  \n",
       "1  Atlanta-Athens-Clarke County-Sandy Springs, GA...  \n",
       "2         Birmingham-Hoover-Talladega, AL  CFS Area   \n",
       "3  Boston-Worcester-Providence, MA-RI-NH-CT  CFS ...  \n",
       "4  Boston-Worcester-Providence, MA-RI-NH-CT  CFS ...  \n",
       "5  Boston-Worcester-Providence, MA-RI-NH-CT  CFS ...  "
      ]
     },
     "execution_count": 16,
     "metadata": {},
     "output_type": "execute_result"
    }
   ],
   "source": [
    "cfs_areas = cfs_areas.drop([0]).head()\n",
    "cfs_areas"
   ]
  },
  {
   "cell_type": "code",
   "execution_count": 17,
   "metadata": {},
   "outputs": [],
   "source": [
    "cf._set(['cfs_areas'], cfs_areas)"
   ]
  },
  {
   "cell_type": "markdown",
   "metadata": {},
   "source": [
    "## change 'nan' into real NaN"
   ]
  },
  {
   "cell_type": "code",
   "execution_count": 19,
   "metadata": {},
   "outputs": [
    {
     "data": {
      "text/html": [
       "<div>\n",
       "<style scoped>\n",
       "    .dataframe tbody tr th:only-of-type {\n",
       "        vertical-align: middle;\n",
       "    }\n",
       "\n",
       "    .dataframe tbody tr th {\n",
       "        vertical-align: top;\n",
       "    }\n",
       "\n",
       "    .dataframe thead th {\n",
       "        text-align: right;\n",
       "    }\n",
       "</style>\n",
       "<table border=\"1\" class=\"dataframe\">\n",
       "  <thead>\n",
       "    <tr style=\"text-align: right;\">\n",
       "      <th></th>\n",
       "      <th>SCTG</th>\n",
       "      <th>Description</th>\n",
       "      <th>SCTG Group</th>\n",
       "    </tr>\n",
       "  </thead>\n",
       "  <tbody>\n",
       "    <tr>\n",
       "      <th>0</th>\n",
       "      <td>01</td>\n",
       "      <td>Animals and Fish (live)</td>\n",
       "      <td>01-05</td>\n",
       "    </tr>\n",
       "    <tr>\n",
       "      <th>1</th>\n",
       "      <td>02</td>\n",
       "      <td>Cereal Grains (includes seed)</td>\n",
       "      <td>nan</td>\n",
       "    </tr>\n",
       "    <tr>\n",
       "      <th>2</th>\n",
       "      <td>03</td>\n",
       "      <td>Agricultural Products (excludes Animal Feed, C...</td>\n",
       "      <td>nan</td>\n",
       "    </tr>\n",
       "    <tr>\n",
       "      <th>3</th>\n",
       "      <td>04</td>\n",
       "      <td>Animal Feed, Eggs, Honey, and Other Products o...</td>\n",
       "      <td>nan</td>\n",
       "    </tr>\n",
       "    <tr>\n",
       "      <th>4</th>\n",
       "      <td>05</td>\n",
       "      <td>Meat, Poultry, Fish, Seafood, and Their Prepar...</td>\n",
       "      <td>nan</td>\n",
       "    </tr>\n",
       "  </tbody>\n",
       "</table>\n",
       "</div>"
      ],
      "text/plain": [
       "  SCTG                                        Description SCTG Group\n",
       "0   01                            Animals and Fish (live)      01-05\n",
       "1   02                      Cereal Grains (includes seed)        nan\n",
       "2   03  Agricultural Products (excludes Animal Feed, C...        nan\n",
       "3   04  Animal Feed, Eggs, Honey, and Other Products o...        nan\n",
       "4   05  Meat, Poultry, Fish, Seafood, and Their Prepar...        nan"
      ]
     },
     "execution_count": 19,
     "metadata": {},
     "output_type": "execute_result"
    }
   ],
   "source": [
    "sctg_codes = cf.sctg_codes()\n",
    "sctg_codes.head()"
   ]
  },
  {
   "cell_type": "code",
   "execution_count": 20,
   "metadata": {},
   "outputs": [
    {
     "data": {
      "text/html": [
       "<div>\n",
       "<style scoped>\n",
       "    .dataframe tbody tr th:only-of-type {\n",
       "        vertical-align: middle;\n",
       "    }\n",
       "\n",
       "    .dataframe tbody tr th {\n",
       "        vertical-align: top;\n",
       "    }\n",
       "\n",
       "    .dataframe thead th {\n",
       "        text-align: right;\n",
       "    }\n",
       "</style>\n",
       "<table border=\"1\" class=\"dataframe\">\n",
       "  <thead>\n",
       "    <tr style=\"text-align: right;\">\n",
       "      <th></th>\n",
       "      <th>SCTG</th>\n",
       "      <th>Description</th>\n",
       "      <th>SCTG Group</th>\n",
       "    </tr>\n",
       "  </thead>\n",
       "  <tbody>\n",
       "    <tr>\n",
       "      <th>0</th>\n",
       "      <td>01</td>\n",
       "      <td>Animals and Fish (live)</td>\n",
       "      <td>01-05</td>\n",
       "    </tr>\n",
       "    <tr>\n",
       "      <th>1</th>\n",
       "      <td>02</td>\n",
       "      <td>Cereal Grains (includes seed)</td>\n",
       "      <td>NaN</td>\n",
       "    </tr>\n",
       "    <tr>\n",
       "      <th>2</th>\n",
       "      <td>03</td>\n",
       "      <td>Agricultural Products (excludes Animal Feed, C...</td>\n",
       "      <td>NaN</td>\n",
       "    </tr>\n",
       "    <tr>\n",
       "      <th>3</th>\n",
       "      <td>04</td>\n",
       "      <td>Animal Feed, Eggs, Honey, and Other Products o...</td>\n",
       "      <td>NaN</td>\n",
       "    </tr>\n",
       "    <tr>\n",
       "      <th>4</th>\n",
       "      <td>05</td>\n",
       "      <td>Meat, Poultry, Fish, Seafood, and Their Prepar...</td>\n",
       "      <td>NaN</td>\n",
       "    </tr>\n",
       "  </tbody>\n",
       "</table>\n",
       "</div>"
      ],
      "text/plain": [
       "  SCTG                                        Description SCTG Group\n",
       "0   01                            Animals and Fish (live)      01-05\n",
       "1   02                      Cereal Grains (includes seed)        NaN\n",
       "2   03  Agricultural Products (excludes Animal Feed, C...        NaN\n",
       "3   04  Animal Feed, Eggs, Honey, and Other Products o...        NaN\n",
       "4   05  Meat, Poultry, Fish, Seafood, and Their Prepar...        NaN"
      ]
     },
     "execution_count": 20,
     "metadata": {},
     "output_type": "execute_result"
    }
   ],
   "source": [
    "import numpy as np\n",
    "sctg_codes = sctg_codes.replace('nan', np.nan)\n",
    "sctg_codes.head()"
   ]
  },
  {
   "cell_type": "code",
   "execution_count": 21,
   "metadata": {},
   "outputs": [],
   "source": [
    "cf._set(['sctg_codes'], sctg_codes)"
   ]
  },
  {
   "cell_type": "markdown",
   "metadata": {},
   "source": [
    "### Write manual changes to Quilt package"
   ]
  },
  {
   "cell_type": "code",
   "execution_count": 22,
   "metadata": {},
   "outputs": [],
   "source": [
    "import quilt\n",
    "quilt.build('catherinedevlin/us_census_commodity_flow_2012', cf)"
   ]
  },
  {
   "cell_type": "code",
   "execution_count": 24,
   "metadata": {},
   "outputs": [],
   "source": []
  },
  {
   "cell_type": "code",
   "execution_count": null,
   "metadata": {},
   "outputs": [],
   "source": []
  }
 ],
 "metadata": {
  "kernelspec": {
   "display_name": "Python 3",
   "language": "python",
   "name": "python3"
  },
  "language_info": {
   "codemirror_mode": {
    "name": "ipython",
    "version": 3
   },
   "file_extension": ".py",
   "mimetype": "text/x-python",
   "name": "python",
   "nbconvert_exporter": "python",
   "pygments_lexer": "ipython3",
   "version": "3.6.4"
  }
 },
 "nbformat": 4,
 "nbformat_minor": 2
}
